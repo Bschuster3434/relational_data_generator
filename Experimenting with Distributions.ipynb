{
 "metadata": {
  "name": ""
 },
 "nbformat": 3,
 "nbformat_minor": 0,
 "worksheets": [
  {
   "cells": [
    {
     "cell_type": "raw",
     "metadata": {},
     "source": [
      "http://docs.scipy.org/doc/scipy/reference/stats.html\n",
      "\n",
      "Documentation on the random distributions that are available from the scipy library.\n",
      "I will attempt to make a report that replicates turnaround times.\n",
      "The report will have four columns of data:\n",
      "\n",
      "1) Unique ID\n",
      "2) Begin Date\n",
      "3) End Date\n",
      "4) Time Difference\n",
      "\n",
      "The goal is to create a set of data that has a random distribution between begin + end date, despite having random begin times"
     ]
    },
    {
     "cell_type": "code",
     "collapsed": false,
     "input": [
      "import pandas as pd\n",
      "import numpy as np\n",
      "from pandas import DataFrame, Series\n",
      "import datetime\n",
      "from scipy.stats import norm"
     ],
     "language": "python",
     "metadata": {},
     "outputs": [],
     "prompt_number": 44
    },
    {
     "cell_type": "code",
     "collapsed": false,
     "input": [
      "##I will use seconds to get a reasonable date/time differnce in the equation.\n",
      "test_seconds = 1420894800 + (60 * 30)\n",
      "print datetime.datetime.fromtimestamp(test_seconds)"
     ],
     "language": "python",
     "metadata": {},
     "outputs": [
      {
       "output_type": "stream",
       "stream": "stdout",
       "text": [
        "2015-01-10 08:30:00\n"
       ]
      }
     ],
     "prompt_number": 72
    },
    {
     "cell_type": "code",
     "collapsed": false,
     "input": [
      "##Primary Keys Field. Starting with 100 PK\n",
      "primary_keys = range(1, 100 + 1)"
     ],
     "language": "python",
     "metadata": {},
     "outputs": [],
     "prompt_number": 73
    },
    {
     "cell_type": "code",
     "collapsed": false,
     "input": [
      "##Creating a set of beginning Dates.\n",
      "##The ordering is sequential, but each date will be roughly one day later, with a Standard Deviation of One Hour\n",
      "##Starting at 8:30 everyday, I will pick a randomly distributed time using a normal distribution. scale of 30 minutes.\n",
      "\n",
      "seconds_in_day = (60*60*24)\n",
      "base_seconds = 1420896600 - (60 *60*24*50)\n",
      "daily_times = []\n",
      "for day in range(1, 100 +1):\n",
      "    d_scale = (60*15) #Varience of 15 Minutes\n",
      "    random_movement = norm.rvs(loc=0, scale=d_scale, size=1)[0] #Grabbing One Random Variable from the normal distribution\n",
      "    next_day = np.round(base_seconds + (day * seconds_in_day) + random_movement)\n",
      "    daily_times.append(next_day) "
     ],
     "language": "python",
     "metadata": {},
     "outputs": [],
     "prompt_number": 75
    },
    {
     "cell_type": "code",
     "collapsed": false,
     "input": [
      "##Showing the distribution for the random times. As expected, they fall all around 8:30\n",
      "for i in daily_times:\n",
      "    print datetime.datetime.fromtimestamp(i)"
     ],
     "language": "python",
     "metadata": {},
     "outputs": [
      {
       "output_type": "stream",
       "stream": "stdout",
       "text": [
        "2014-11-22 08:09:29\n",
        "2014-11-23 08:36:42\n",
        "2014-11-24 08:35:07\n",
        "2014-11-25 08:16:01\n",
        "2014-11-26 08:14:21\n",
        "2014-11-27 08:36:19\n",
        "2014-11-28 08:11:50\n",
        "2014-11-29 08:37:52\n",
        "2014-11-30 08:24:35\n",
        "2014-12-01 08:24:19\n",
        "2014-12-02 08:20:54\n",
        "2014-12-03 08:42:28\n",
        "2014-12-04 08:22:48\n",
        "2014-12-05 08:06:06\n",
        "2014-12-06 08:26:48\n",
        "2014-12-07 08:29:49\n",
        "2014-12-08 08:23:17\n",
        "2014-12-09 08:48:07\n",
        "2014-12-10 08:51:11\n",
        "2014-12-11 08:56:31\n",
        "2014-12-12 08:34:16\n",
        "2014-12-13 07:57:34\n",
        "2014-12-14 08:27:25\n",
        "2014-12-15 08:40:27\n",
        "2014-12-16 08:42:26\n",
        "2014-12-17 08:35:40\n",
        "2014-12-18 08:52:12\n",
        "2014-12-19 08:08:14\n",
        "2014-12-20 08:32:41\n",
        "2014-12-21 08:15:27\n",
        "2014-12-22 08:22:50\n",
        "2014-12-23 08:12:25\n",
        "2014-12-24 08:28:59\n",
        "2014-12-25 08:19:14\n",
        "2014-12-26 08:32:55\n",
        "2014-12-27 08:14:16\n",
        "2014-12-28 08:27:51\n",
        "2014-12-29 08:41:28\n",
        "2014-12-30 09:01:46\n",
        "2014-12-31 08:36:49\n",
        "2015-01-01 08:29:55\n",
        "2015-01-02 08:06:34\n",
        "2015-01-03 08:20:35\n",
        "2015-01-04 08:37:38\n",
        "2015-01-05 09:03:01\n",
        "2015-01-06 08:07:27\n",
        "2015-01-07 08:26:22\n",
        "2015-01-08 08:30:39\n",
        "2015-01-09 08:37:17\n",
        "2015-01-10 08:40:15\n",
        "2015-01-11 08:34:24\n",
        "2015-01-12 08:09:31\n",
        "2015-01-13 08:12:22\n",
        "2015-01-14 08:52:05\n",
        "2015-01-15 08:14:16\n",
        "2015-01-16 08:43:42\n",
        "2015-01-17 08:10:23\n",
        "2015-01-18 08:19:52\n",
        "2015-01-19 08:09:12\n",
        "2015-01-20 08:04:57\n",
        "2015-01-21 08:25:11\n",
        "2015-01-22 08:32:43\n",
        "2015-01-23 08:40:27\n",
        "2015-01-24 08:29:09\n",
        "2015-01-25 08:15:15\n",
        "2015-01-26 08:37:22\n",
        "2015-01-27 08:46:14\n",
        "2015-01-28 08:25:58\n",
        "2015-01-29 08:36:58\n",
        "2015-01-30 08:23:40\n",
        "2015-01-31 08:30:58\n",
        "2015-02-01 08:23:34\n",
        "2015-02-02 08:09:12\n",
        "2015-02-03 08:46:23\n",
        "2015-02-04 08:40:47\n",
        "2015-02-05 08:29:43\n",
        "2015-02-06 08:18:15\n",
        "2015-02-07 08:41:55\n",
        "2015-02-08 08:41:21\n",
        "2015-02-09 08:09:12\n",
        "2015-02-10 08:28:48\n",
        "2015-02-11 08:01:00\n",
        "2015-02-12 08:21:49\n",
        "2015-02-13 08:54:50\n",
        "2015-02-14 08:24:55\n",
        "2015-02-15 08:29:31\n",
        "2015-02-16 08:35:06\n",
        "2015-02-17 08:36:57\n",
        "2015-02-18 08:08:37\n",
        "2015-02-19 08:44:28\n",
        "2015-02-20 08:15:49\n",
        "2015-02-21 08:47:45\n",
        "2015-02-22 08:41:09\n",
        "2015-02-23 08:21:36\n",
        "2015-02-24 08:26:52\n",
        "2015-02-25 08:15:31\n",
        "2015-02-26 08:17:55\n",
        "2015-02-27 08:47:36\n",
        "2015-02-28 08:48:42\n",
        "2015-03-01 08:02:07\n"
       ]
      }
     ],
     "prompt_number": 76
    },
    {
     "cell_type": "code",
     "collapsed": false,
     "input": [],
     "language": "python",
     "metadata": {},
     "outputs": [],
     "prompt_number": 74
    },
    {
     "cell_type": "code",
     "collapsed": false,
     "input": [],
     "language": "python",
     "metadata": {},
     "outputs": []
    }
   ],
   "metadata": {}
  }
 ]
}